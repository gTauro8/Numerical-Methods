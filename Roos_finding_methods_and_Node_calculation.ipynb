{
 "cells": [
  {
   "cell_type": "markdown",
   "id": "86007514",
   "metadata": {},
   "source": [
    "**CONFRONTO TRA ALGORITMI PER LA RICERCA DELLE RADICI DI UNA FUNZIONE**\n",
    "\n",
    "Per effettuare il confronto sono stati implementati i seguenti algorirmi:\n",
    "- Metodo delle Bisezioni Successice\n",
    "- Metodo di Newton\n",
    "- Metodo delle Secanti\n",
    "- Metodo delle Corde\n",
    "\n",
    "Questi ultimi due sono delle varianti al metodo di Newton\n",
    "\n",
    "Considerata la funzione f(x) = x^2 - 11, vogliamo studiare come si comportanto i diversi metodi al calcolatore.\n",
    "Fissata la tolleranza calcolata dal metodo epsilon_machine() e un numero di iterazioni massimo pari a Kmax = 35 per assicurarci che il calcolo non diverga"
   ]
  },
  {
   "cell_type": "code",
   "execution_count": 1,
   "id": "226862c2",
   "metadata": {},
   "outputs": [],
   "source": [
    "import numpy as np\n",
    "import math\n",
    "import matplotlib.pyplot as plt"
   ]
  },
  {
   "cell_type": "code",
   "execution_count": 2,
   "id": "88829b0a",
   "metadata": {},
   "outputs": [],
   "source": [
    "def epsilon_machine():\n",
    "    eps = 1.0\n",
    "    while eps + 1 > 1:\n",
    "        eps/=2\n",
    "    eps *= 2\n",
    "    \n",
    "    return eps"
   ]
  },
  {
   "cell_type": "code",
   "execution_count": 3,
   "id": "122dfc59",
   "metadata": {},
   "outputs": [],
   "source": [
    "def f(x):\n",
    "    return x ** 2 - 11"
   ]
  },
  {
   "cell_type": "code",
   "execution_count": 4,
   "id": "cce9a4fa",
   "metadata": {},
   "outputs": [],
   "source": [
    "def df(x):\n",
    "    return 2 * x"
   ]
  },
  {
   "cell_type": "code",
   "execution_count": 5,
   "id": "472cb336",
   "metadata": {},
   "outputs": [],
   "source": [
    "def metodo_Bisezioni_Successive(a: float, b: float, tolleranza: float, x_reale: float, fun):\n",
    "    # Verifica presenza di radici\n",
    "    fa = fun(a)\n",
    "    fb = fun(b)\n",
    "\n",
    "    c = None\n",
    "\n",
    "    if fa * fb > 0:\n",
    "        print('Errore: non garantita radice in [%f; %f]' % (a, b))\n",
    "    else:\n",
    "        n = math.ceil(math.log2((b - a) / tolleranza)) - 1\n",
    "        err = np.zeros(n + 1)  # def dell'errore\n",
    "\n",
    "        for k in range(n + 1):\n",
    "            c = (a + b) / 2\n",
    "            fc = fun(c)\n",
    "\n",
    "            err[k] = abs(x_reale - c)\n",
    "            if fa * fc < 0:\n",
    "                b = c\n",
    "            else:\n",
    "                a = c\n",
    "                fa = fc\n",
    "\n",
    "    return c, err"
   ]
  },
  {
   "cell_type": "code",
   "execution_count": 6,
   "id": "4aa2abe5",
   "metadata": {},
   "outputs": [],
   "source": [
    "def metodo_Newton(x0: float, tolleranza: float, kmax: int, x_reale: float, fun, dfun):\n",
    "    fx0 = fun(x0)\n",
    "    dfx0 = dfun(x0)\n",
    "    err = []\n",
    "\n",
    "    iterazioni = 0\n",
    "    stop = 0\n",
    "\n",
    "    while not stop and iterazioni < kmax:\n",
    "        x1 = x0 - fx0 / dfx0\n",
    "        fx1 = fun(x1)\n",
    "\n",
    "        stop = abs(fx1) + abs(x1 - x0) / abs(x1) < tolleranza / 5\n",
    "\n",
    "        err.append(abs(x_reale - x1))\n",
    "\n",
    "        iterazioni += 1\n",
    "\n",
    "        if not stop:\n",
    "            x0 = x1\n",
    "            fx0 = fx1\n",
    "            dfx0 = dfun(x0)\n",
    "\n",
    "    if not stop:\n",
    "        print(\"Accuratezza del metodo raggiunta in %d iterazioni\" % (int(iterazioni)))\n",
    "\n",
    "    return x1, err"
   ]
  },
  {
   "cell_type": "code",
   "execution_count": 7,
   "id": "0ec9f63f",
   "metadata": {},
   "outputs": [],
   "source": [
    "def metodo_Secanti(x0, x1, tolleranza, k_max, x_reale: float, fun):\n",
    "    fx0 = fun(x0)\n",
    "    fx1 = fun(x1)\n",
    "\n",
    "    err = []\n",
    "\n",
    "    iterazioni = 0\n",
    "    stop = 0\n",
    "\n",
    "    while not stop and iterazioni < k_max:\n",
    "        x2 = x1 - ((fx1 * (x1 - x0)) / (fx1 - fx0))\n",
    "        fx2 = fun(x2)\n",
    "\n",
    "        stop = abs(fx2) + abs(x2 - x1) / abs(x2) < tolleranza / 5\n",
    "\n",
    "        err.append(abs(x_reale - x2))\n",
    "\n",
    "        iterazioni += 1\n",
    "\n",
    "        if not stop:\n",
    "            x0 = x1\n",
    "            fx0 = fx1\n",
    "            x1 = x2\n",
    "            fx1 = fx2\n",
    "\n",
    "    if not stop:\n",
    "        print(\"Accuratezza del metodo raggiunta in %d iterazioni\" % (int(iterazioni)))\n",
    "\n",
    "    return x1, err"
   ]
  },
  {
   "cell_type": "code",
   "execution_count": 8,
   "id": "300bcae5",
   "metadata": {},
   "outputs": [],
   "source": [
    "def metodo_Corde(x0: float, m, tolleranza, kmax, x_reale: float, fun):\n",
    "    fx0 = fun(x0)\n",
    "    err = []\n",
    "\n",
    "    iterazioni = 0\n",
    "    stop = 0\n",
    "\n",
    "    while not stop and iterazioni < kmax:\n",
    "        x1 = x0 - fx0 / m\n",
    "        fx1 = fun(x1)\n",
    "\n",
    "        stop = abs(fx1) + abs(x1 - x0) / abs(x1) < tolleranza / 5\n",
    "        err.append(abs(x_reale - x1))\n",
    "\n",
    "        iterazioni += 1\n",
    "\n",
    "        if not stop:\n",
    "            x0 = x1\n",
    "            fx0 = fx1\n",
    "\n",
    "    if not stop:\n",
    "        print(\"Accuratezza del metodo raggiunta in %d iterazioni\" % (int(iterazioni)))\n",
    "\n",
    "        return x1, err"
   ]
  },
  {
   "cell_type": "code",
   "execution_count": 9,
   "id": "69de76ef",
   "metadata": {},
   "outputs": [],
   "source": [
    "def vettore_standard(err, l_max):\n",
    "    v = np.array([i - i for i in range(l_max)], dtype=float)\n",
    "\n",
    "    for i in range(len(err)):\n",
    "        v[i] = err[i]\n",
    "    return np.array(v)"
   ]
  },
  {
   "cell_type": "code",
   "execution_count": 10,
   "id": "ae89c9d3",
   "metadata": {},
   "outputs": [],
   "source": [
    "def test_ricerca_radici():\n",
    "    # soluzione reale del problema\n",
    "\n",
    "    x_reale = math.sqrt(11)\n",
    "\n",
    "    # numero massimo iterazioni\n",
    "    k_max = 35\n",
    "\n",
    "    # tolleranza per l'arresto del criterio\n",
    "\n",
    "    tolleranza = epsilon_machine()\n",
    "\n",
    "    # estremi dell'intervallo\n",
    "    a = -2\n",
    "    b = 4\n",
    "\n",
    "    # ora calcolo la soluzione e il vettore degli errori per il metodo delle Bisezioni Successive\n",
    "    sol_BS, err_BS = metodo_Bisezioni_Successive(a, b, tolleranza, x_reale, f)\n",
    "\n",
    "    # punto iniziale del metodo di newton\n",
    "    x0 = 3\n",
    "\n",
    "    sol_New, err_New = metodo_Newton(x0, tolleranza, k_max, x_reale, f, df)\n",
    "\n",
    "    # punti iniziali del metodo delle secanti\n",
    "\n",
    "    x0 = 1\n",
    "    x1 = 3\n",
    "\n",
    "    sol_Sec, err_Sec = metodo_Secanti(x0, x1, tolleranza, k_max, x_reale, f)\n",
    "\n",
    "    # punti iniziali del metodo Corde\n",
    "    x0 = 0\n",
    "    m = 4\n",
    "\n",
    "    sol_Corde, err_Corde = metodo_Corde(x0, m, tolleranza, k_max, x_reale, f)\n",
    "\n",
    "    len_max_err = max(len(err_BS), len(err_New), len(err_Sec), len(err_Corde))\n",
    "\n",
    "    err_BS = vettore_standard(err_BS, len_max_err)\n",
    "    err_New = vettore_standard(err_New, len_max_err)\n",
    "    err_Sec = vettore_standard(err_Sec, len_max_err)\n",
    "    err_Corde = vettore_standard(err_Corde, len_max_err)\n",
    "\n",
    "    plt.plot(1)\n",
    "    plt.semilogy(range(len_max_err), err_BS, \"orange\", label=\"Metodo delle Bisezioni Successive\")\n",
    "    plt.semilogy(range(len_max_err), err_New, \"green\", label=\"Metodo di Newton\")\n",
    "    plt.semilogy(range(len_max_err), err_Sec, \"red\", label=\"Metodo delle Secanti\")\n",
    "    plt.semilogy(range(len_max_err), err_Corde, \"blue\", label=\"Metodo delle Corde\")\n",
    "\n",
    "    plt.legend()\n",
    "    plt.xlabel(\"Nro. Iterazioni\")\n",
    "    plt.ylabel('Errore')\n",
    "    plt.show()"
   ]
  },
  {
   "cell_type": "markdown",
   "id": "9358b79a",
   "metadata": {},
   "source": [
    "**CONFRONTI IN BASE ALLA CONVERGENZA**\n",
    "\n",
    "Il grafico mostra la velocità di convergenza dei vari metodi per la ricerca delle radici di una funzione.\n",
    "\n",
    "Come prima cosa notiamo dal grafico che il metodo che converge più lentamente è quello delle Bisezioni Successive rispetto al più rapido che è il metodo di Newton\n",
    "\n",
    "L'osservazione principale che si può fare riguarda la convergenza più rapida di tutti gli altri metodi rispetto al metodo delle bisezioni successive, in effetti i metodi piùù rapidi hanno criteri più stringenti come ad esempio la conoscenza a priori della derivata delle funzione (metodo di Newton) o un punto iniziale vicino alla soluzione per gli altri metodi"
   ]
  },
  {
   "cell_type": "code",
   "execution_count": 33,
   "id": "85309535",
   "metadata": {},
   "outputs": [
    {
     "name": "stdout",
     "output_type": "stream",
     "text": [
      "Accuratezza del metodo raggiunta in 35 iterazioni\n"
     ]
    },
    {
     "data": {
      "image/png": "[encoded data removed]",
      "text/plain": [
       "<Figure size 432x288 with 1 Axes>"
      ]
     },
     "metadata": {
      "needs_background": "light"
     },
     "output_type": "display_data"
    }
   ],
   "source": [
    "test_ricerca_radici()\n"
   ]
  }
 ],
 "metadata": {
  "kernelspec": {
   "display_name": "Python 3 (ipykernel)",
   "language": "python",
   "name": "python3"
  },
  "language_info": {
   "codemirror_mode": {
    "name": "ipython",
    "version": 3
   },
   "file_extension": ".py",
   "mimetype": "text/x-python",
   "name": "python",
   "nbconvert_exporter": "python",
   "pygments_lexer": "ipython3",
   "version": "3.9.7"
  }
 },
 "nbformat": 4,
 "nbformat_minor": 5
}
