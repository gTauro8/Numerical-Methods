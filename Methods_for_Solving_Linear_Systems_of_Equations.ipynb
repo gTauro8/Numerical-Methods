{
 "cells": [
  {
   "cell_type": "markdown",
   "id": "701cec7b",
   "metadata": {
    "slideshow": {
     "slide_type": "notes"
    }
   },
   "source": [
    "**CONFRONTO TRA ALGORITMI PER IL CALCOLO DI SISTEMI LINEARI Ax = b**\n",
    "\n",
    "Nel seguente programma sono stati implementati i seguenti algoritmi:\n",
    "- Metodo Cramer e Cramer ottimizzato\n",
    "- Metodo MEG + algoritmo di sostituzione all'indietro\n",
    "- Metodo Decomposizione A = LU\n",
    "- Metodo Built-in di numpy\n",
    "- Metodo Matrice inversa\n",
    "- Metodo doolittle\n",
    "- Metodo Crout\n"
   ]
  },
  {
   "cell_type": "code",
   "execution_count": 28,
   "id": "4966eb7c",
   "metadata": {},
   "outputs": [],
   "source": [
    "import numpy as np\n",
    "import matplotlib.pyplot as plt\n",
    "import time"
   ]
  },
  {
   "cell_type": "code",
   "execution_count": 29,
   "id": "fe043e4f",
   "metadata": {
    "slideshow": {
     "slide_type": "notes"
    }
   },
   "outputs": [],
   "source": [
    "# Con questa funzione vado a calcolare il piu piccolo numero di macchina positivo tale che sommato ad 1 dia unaquantit`a maggiore di 1.  \n",
    "# Si tratta del numero che si trova tra 1 e il prossimo numero di macchina"
   ]
  },
  {
   "cell_type": "code",
   "execution_count": 30,
   "id": "32ff37f6",
   "metadata": {},
   "outputs": [],
   "source": [
    "def epsilon_machine():\n",
    "    eps = 1.0\n",
    "    while eps + 1 > 1:\n",
    "        eps/=2\n",
    "    eps *= 2\n",
    "    return eps"
   ]
  },
  {
   "cell_type": "code",
   "execution_count": 31,
   "id": "9be304c7",
   "metadata": {},
   "outputs": [],
   "source": [
    "def eliminazione_gauss(A, b):\n",
    "    A = np.copy(A)\n",
    "    b = np.copy(b)\n",
    "    \n",
    "    n = len(A)\n",
    "    \n",
    "    for j in range(n - 1):\n",
    "        for i in range(j + 1, n):\n",
    "            m =  A[i, j] / A[j, j]\n",
    "            \n",
    "            for k in range(j + 1, n):\n",
    "                A[i, k] = A[i, k] - m * A[j, k]\n",
    "            b[i] = b[i] - m * b[j]\n",
    "\n",
    "    return A, b\n",
    "            "
   ]
  },
  {
   "cell_type": "code",
   "execution_count": 32,
   "id": "4df8d632",
   "metadata": {},
   "outputs": [],
   "source": [
    "def sostituzione_indietro(U, b):\n",
    "    n = len(U)\n",
    "    x = np.zeros(n)\n",
    "\n",
    "    if abs(np.prod(np.diag(U))) < epsilon_machine():\n",
    "        print(\"Attenzione! Questa matrice potrebbe non avere soluzioni\")\n",
    "    else:\n",
    "        for i in range(n - 1, -1, -1):\n",
    "            S = 0\n",
    "\n",
    "            for j in range(i + 1, n):\n",
    "                S = S + U[i, j] * x[j]\n",
    "\n",
    "            x[i] = (b[i] - S) / U[i, i]\n",
    "\n",
    "    return x"
   ]
  },
  {
   "cell_type": "code",
   "execution_count": 33,
   "id": "c46fafcb",
   "metadata": {},
   "outputs": [],
   "source": [
    "def sostituzione_avanti(L, b):\n",
    "    # Prendiamo il numero di righe\n",
    "    n = L.shape[0]\n",
    "\n",
    "    # Allochiamo spazio per il vettore soluzione\n",
    "    y = np.zeros_like(b, dtype=np.double)\n",
    "\n",
    "    # Applichiamo la sostituzione in avanti\n",
    "    y[0] = b[0] / L[0, 0]\n",
    "\n",
    "    # Cicliamo al contrario sulle righe(bottom up)\n",
    "    # Iniziando dalla seconda all'ultima riga\n",
    "    for i in range(1, n):\n",
    "        y[i] = (b[i] - np.dot(L[i, :i], y[:i])) / L[i, i]\n",
    "\n",
    "    return y"
   ]
  },
  {
   "cell_type": "code",
   "execution_count": 34,
   "id": "11fbc908",
   "metadata": {},
   "outputs": [],
   "source": [
    "def fattorizzazioneLU(A):\n",
    "    n = len(A)\n",
    "\n",
    "    U = A.copy()\n",
    "    L = np.eye(n)\n",
    "\n",
    "    for i in range(n):\n",
    "        m = U[i + 1:, i] / U[i, i]\n",
    "        L[i + 1:, i] = m\n",
    "        U[i + 1:] = U[i + 1:] - m[:, np.newaxis] * U[i]\n",
    "\n",
    "    return L, U"
   ]
  },
  {
   "cell_type": "code",
   "execution_count": 35,
   "id": "a5f405aa",
   "metadata": {},
   "outputs": [],
   "source": [
    "def fattorizzazione_doolittle(A):\n",
    "    # fattorizzazione Lu usando la fattorizzazione Doolittle\n",
    "\n",
    "    L = np.zeros_like(A)\n",
    "    U = np.zeros_like(A)\n",
    "    N = np.size(A, 0)\n",
    "\n",
    "    for k in range(N):\n",
    "        L[k, k] = 1\n",
    "        U[k, k] = (A[k, k] - np.dot(L[k, :k], U[:k, k])) / L[k, k]\n",
    "        for j in range(k + 1, N):\n",
    "            U[k, j] = (A[k, j] - np.dot(L[k, :k], U[:k, j])) / L[k, k]\n",
    "        for i in range(k + 1, N):\n",
    "            L[i, k] = (A[i, k] - np.dot(L[i, :k], U[:k, k])) / U[k, k]\n",
    "\n",
    "    return L, U"
   ]
  },
  {
   "cell_type": "code",
   "execution_count": 36,
   "id": "3d1d5f7c",
   "metadata": {},
   "outputs": [],
   "source": [
    "def matrice_crout(A):\n",
    "    n = A.shape[0]\n",
    "\n",
    "    U = np.zeros((n, n), dtype=np.double)\n",
    "    L = np.zeros((n, n), dtype=np.double)\n",
    "\n",
    "    for k in range(n):\n",
    "        L[k, k] = A[k, k] - L[k, :] @ U[:, k]\n",
    "\n",
    "        U[k, k:] = (A[k, k:] - L[k, :k] @ U[:k, k:]) / L[k, k]\n",
    "        L[(k + 1):, k] = (A[(k + 1):, k] - L[(k + 1):, :] @ U[:, k]) / U[k, k]\n",
    "\n",
    "    return L, U\n"
   ]
  },
  {
   "cell_type": "code",
   "execution_count": 37,
   "id": "dfa7c1d9",
   "metadata": {},
   "outputs": [],
   "source": [
    "def fattorizzazioneLU_pivoting(A):\n",
    "    A = np.copy(A)\n",
    "    n = len(A)\n",
    "\n",
    "    indice = np.array(range(n))\n",
    "\n",
    "    for j in range(n - 1):\n",
    "        max_A = abs(A[j, j])\n",
    "\n",
    "        indice_pivot = j\n",
    "\n",
    "        for i in range(j + 1, n):\n",
    "            if abs(A[i, j] > max_A):\n",
    "                indice_pivot = i\n",
    "\n",
    "        # possibile scambio di righe\n",
    "        if indice_pivot > j:\n",
    "            for k in range(n):\n",
    "                A[indice_pivot, k], A[j, k] = A[j, k], A[indice_pivot, k]\n",
    "            indice[indice_pivot], indice[j] = indice[j], indice[indice_pivot]\n",
    "\n",
    "        # eleminazione della colonna j-esima\n",
    "\n",
    "        for i in range(j + 1, n):\n",
    "            A[i, j] = A[i, j] / A[j, j]\n",
    "\n",
    "            for k in range(j + 1, n):\n",
    "                A[i, k] = A[i, k] - A[i, j] * A[j, k]\n",
    "\n",
    "    L = np.tril(A, - 1) + np.eye(n, n)\n",
    "    U = np.tril(A)\n",
    "\n",
    "    return L, U"
   ]
  },
  {
   "cell_type": "code",
   "execution_count": 38,
   "id": "36e95334",
   "metadata": {},
   "outputs": [],
   "source": [
    "def fattorizzazioneLU_pivoting_ottimizzato(A):\n",
    "    A = np.copy(A)\n",
    "    n = len(A)\n",
    "\n",
    "    indice = np.array(range(n))\n",
    "\n",
    "    for j in range(n - 1):\n",
    "        # individuazione elemento pivot\n",
    "        indice_pivot = np.argmax(abs(A[j: n, j])) + j\n",
    "\n",
    "        # eventuale scambio di righe\n",
    "        if indice_pivot > j:\n",
    "            A[[indice_pivot, j]] = A[[j, indice_pivot], :]\n",
    "            indice[[indice_pivot, j]] = indice[[j, indice_pivot]]\n",
    "\n",
    "        # eliminazione della colonna j-esima\n",
    "        for i in range(j + 1, n):\n",
    "            A[i, j] = A[i, j] / A[j, j]\n",
    "            A[i, j + 1: n] = A[i, j + 1: n] - A[i, j] * A[j, j + 1: n]\n",
    "\n",
    "    L = np.tril(A, - 1) + np.eye(n, n)\n",
    "    U = np.tril(A)\n",
    "\n",
    "    return L, U"
   ]
  },
  {
   "cell_type": "code",
   "execution_count": 39,
   "id": "2479c03f",
   "metadata": {},
   "outputs": [],
   "source": [
    "def soluzione_gauss(A, b):\n",
    "    A = np.copy(A)\n",
    "    b = np.copy(b)\n",
    "\n",
    "    U, b = eliminazione_gauss(A, b)\n",
    "    x = sostituzione_indietro(U, b)\n",
    "\n",
    "    return x"
   ]
  },
  {
   "cell_type": "code",
   "execution_count": 40,
   "id": "765385b9",
   "metadata": {},
   "outputs": [],
   "source": [
    "def soluzione_cramer(A, b):\n",
    "    x = []\n",
    "    n = len(A)\n",
    "    detA = np.linalg.det(A)\n",
    "\n",
    "    for i in range(n):\n",
    "        Ai = np.copy(A)\n",
    "        Ai[:, i] = b\n",
    "        x.append(float(np.linalg.det(Ai) / np.linalg.det(A)))\n",
    "\n",
    "    return np.copy(list(x))"
   ]
  },
  {
   "cell_type": "code",
   "execution_count": 41,
   "id": "d58bde46",
   "metadata": {},
   "outputs": [],
   "source": [
    "def soluzione_cramer_ottimizzato(A, b):\n",
    "    x = []\n",
    "    n = len(A)\n",
    "    detA = np.linalg.det(A)\n",
    "\n",
    "    for i in range(n):\n",
    "        Ai = np.copy(A)\n",
    "        Ai[:, i] = b\n",
    "        x.append(float(np.linalg.det(Ai) / detA))\n",
    "\n",
    "    return np.copy(list(x))\n"
   ]
  },
  {
   "cell_type": "code",
   "execution_count": 42,
   "id": "329e5e57",
   "metadata": {},
   "outputs": [],
   "source": [
    "def soluzione_matrice_inversa(A, b):\n",
    "    return np.dot(np.linalg.inv(A), b)"
   ]
  },
  {
   "cell_type": "code",
   "execution_count": 43,
   "id": "8c5e9ef8",
   "metadata": {},
   "outputs": [],
   "source": [
    "def soluzioneLU(A, b):\n",
    "    L, U = fattorizzazioneLU(A)\n",
    "\n",
    "    y = sostituzione_avanti(L, b)\n",
    "    x = sostituzione_indietro(U, y)\n",
    "\n",
    "    return x"
   ]
  },
  {
   "cell_type": "code",
   "execution_count": 44,
   "id": "45d31b16",
   "metadata": {},
   "outputs": [],
   "source": [
    "def soluzione_matrice_croute(A, b):\n",
    "    L, U = matrice_crout(A)\n",
    "\n",
    "    y = sostituzione_avanti(L, b)\n",
    "    x = sostituzione_indietro(U, y)\n",
    "    return x"
   ]
  },
  {
   "cell_type": "code",
   "execution_count": 45,
   "id": "f0788ee5",
   "metadata": {},
   "outputs": [],
   "source": [
    "def soluzione_doolittle(A, b):\n",
    "    L, U = fattorizzazione_doolittle(A)\n",
    "\n",
    "    y = sostituzione_avanti(L, b)\n",
    "    x = sostituzione_indietro(U, y)\n",
    "    return x"
   ]
  },
  {
   "cell_type": "code",
   "execution_count": 46,
   "id": "ce95775b",
   "metadata": {},
   "outputs": [],
   "source": [
    "def soluzioneBuildIn(A, b):\n",
    "    return np.linalg.solve(A, b)"
   ]
  },
  {
   "cell_type": "code",
   "execution_count": 47,
   "id": "7340bbb7",
   "metadata": {
    "scrolled": true
   },
   "outputs": [
    {
     "name": "stderr",
     "output_type": "stream",
     "text": [
      "C:\\Users\\giuse\\anaconda3\\lib\\site-packages\\numpy\\linalg\\linalg.py:2158: RuntimeWarning: overflow encountered in det\n",
      "  r = _umath_linalg.det(a, signature=signature)\n",
      "C:\\Users\\giuse\\anaconda3\\lib\\site-packages\\numpy\\core\\fromnumeric.py:87: RuntimeWarning: overflow encountered in reduce\n",
      "  return ufunc.reduce(obj, axis, dtype, out, **passkwargs)\n",
      "C:\\Users\\giuse\\AppData\\Local\\Temp/ipykernel_14200/696467790.py:9: RuntimeWarning: invalid value encountered in double_scalars\n",
      "  x.append(float(np.linalg.det(Ai) / np.linalg.det(A)))\n"
     ]
    },
    {
     "data": {
      "image/png": "[encoded data removed]",
      "text/plain": [
       "<Figure size 432x288 with 1 Axes>"
      ]
     },
     "metadata": {
      "needs_background": "light"
     },
     "output_type": "display_data"
    },
    {
     "data": {
      "image/png": "[encoded data removed]",
      "text/plain": [
       "<Figure size 432x288 with 1 Axes>"
      ]
     },
     "metadata": {
      "needs_background": "light"
     },
     "output_type": "display_data"
    },
    {
     "data": {
      "image/png": "[encoded data removed]",
      "text/plain": [
       "<Figure size 432x288 with 1 Axes>"
      ]
     },
     "metadata": {
      "needs_background": "light"
     },
     "output_type": "display_data"
    },
    {
     "data": {
      "image/png": "[encoded data removed]",
      "text/plain": [
       "<Figure size 432x288 with 1 Axes>"
      ]
     },
     "metadata": {
      "needs_background": "light"
     },
     "output_type": "display_data"
    }
   ],
   "source": [
    "def test_fattorizzazione(N):\n",
    "    t_Soluzione_Gauss = []\n",
    "    t_soluzione_ALU_senza_Pivot = []\n",
    "    t_soluzione_Cramer = []\n",
    "    t_soluzione_Cramer_ottimizzato = []\n",
    "\n",
    "    t_soluzione_matrice_inversa = []\n",
    "    t_soluzione_doolittle = []\n",
    "    t_soluzione_crout = []\n",
    "    t_build_in = []\n",
    "\n",
    "\n",
    "    for n in range(2, N + 1, 5):\n",
    "        A = (2 * np.random.random((n, n)) - 1) * 10\n",
    "        b = (2 * np.random.random(n) - 1) * 10\n",
    "\n",
    "        # effettuo una verifica sul determinante osservando che\n",
    "        # sia !=0 e quindi la matrice non sia singolare\n",
    "\n",
    "        while np.linalg.det(A) < epsilon_machine():\n",
    "            A = (2 * np.random.random((n, n)) - 1) * 10\n",
    "\n",
    "\n",
    "        # eliminazione di gauss\n",
    "        tempo_iniziale = time.time()\n",
    "        x_gauss = soluzione_gauss(A, b)\n",
    "        tempo_finale = time.time()\n",
    "\n",
    "        t_Soluzione_Gauss.append(float(tempo_finale - tempo_iniziale))\n",
    "\n",
    "        \n",
    "        # cramer\n",
    "        tempo_iniziale = time.time()\n",
    "        x_cramer = soluzione_cramer(A, b)\n",
    "        tempo_finale = time.time()\n",
    "\n",
    "        t_soluzione_Cramer.append(float(tempo_finale - tempo_iniziale))\n",
    "\n",
    "        # cramer ottimizzato\n",
    "        tempo_iniziale = time.time()\n",
    "        x_cramer_ott = soluzione_cramer_ottimizzato(A, b)\n",
    "        tempo_finale = time.time()\n",
    "\n",
    "        t_soluzione_Cramer_ottimizzato.append(float(tempo_finale - tempo_iniziale))\n",
    "\n",
    "\n",
    "        # matrice inversa\n",
    "        tempo_iniziale = time.time()\n",
    "        x_matrice_inversa = soluzione_matrice_inversa(A, b)\n",
    "        tempo_finale = time.time()\n",
    "\n",
    "        t_soluzione_matrice_inversa.append(float(tempo_finale - tempo_iniziale))\n",
    "\n",
    "\n",
    "        # alu senza pivot\n",
    "        tempo_iniziale = time.time()\n",
    "        x_soluzione_ALU_senza_Pivot = soluzioneLU(A, b)\n",
    "        tempo_finale = time.time()\n",
    "\n",
    "        t_soluzione_ALU_senza_Pivot.append(float(tempo_finale - tempo_iniziale))\n",
    "\n",
    "       \n",
    "        # metodo numpy solve\n",
    "        tempo_iniziale = time.time()\n",
    "        x_soluzione_Build_In = soluzioneBuildIn(A, b)\n",
    "        tempo_finale = time.time()\n",
    "\n",
    "        t_build_in.append(float(tempo_finale - tempo_iniziale))\n",
    "\n",
    "        # metodo matrice crout\n",
    "        tempo_iniziale = time.time()\n",
    "        x_soluzione_crout = soluzione_matrice_croute(A, b)\n",
    "        tempo_finale = time.time()\n",
    "\n",
    "        t_soluzione_crout.append(float(tempo_finale - tempo_iniziale))\n",
    "\n",
    "        # metodo matrice doolittle\n",
    "        tempo_iniziale = time.time()\n",
    "        x_soluzione_doolittle = soluzione_doolittle(A, b)\n",
    "        tempo_finale = time.time()\n",
    "\n",
    "        t_soluzione_doolittle.append(float(tempo_finale - tempo_iniziale))\n",
    "    \n",
    "    plt.figure(1)\n",
    "\n",
    "    plt.plot(range(2, N + 1, 5), t_Soluzione_Gauss, 'k-',\n",
    "             label='SOLUZIONE CON MEG')\n",
    "\n",
    "    plt.plot(range(2, N + 1, 5), t_soluzione_ALU_senza_Pivot, 'y-',\n",
    "             label='SOLUZIONE CON METODO A=LU')\n",
    "\n",
    "    plt.xlabel('N')\n",
    "    plt.ylabel('Tempo')\n",
    "    plt.legend()\n",
    "    plt.show()\n",
    "\n",
    "    plt.plot(range(2, N + 1, 5), t_soluzione_Cramer, 'r-',\n",
    "             label='SOLUZIONE CON CRAMER')\n",
    "\n",
    "    plt.plot(range(2, N + 1, 5), t_soluzione_Cramer_ottimizzato, 'g-',\n",
    "             label='SOLUZIONE CON CRAMER OTTIMIZZATO')\n",
    "\n",
    "    plt.xlabel('N')\n",
    "    plt.ylabel('Tempo')\n",
    "    plt.legend()\n",
    "    plt.show()\n",
    "\n",
    "    plt.plot(range(2, N + 1, 5), t_soluzione_matrice_inversa, 'b-',\n",
    "             label='SOLUZIONE CON MATRICE INVERSA')\n",
    "\n",
    "    plt.plot(range(2, N + 1, 5), t_build_in, 'brown',\n",
    "             label='SOLUZIONE CON METODO np.linalg.solve')\n",
    "\n",
    "    plt.xlabel('N')\n",
    "    plt.ylabel('Tempo')\n",
    "    plt.legend()\n",
    "    plt.show()\n",
    "\n",
    "    plt.plot(range(2, N + 1, 5), t_soluzione_ALU_senza_Pivot, 'red',\n",
    "             label='SOLUZIONE CON MATRICE A=LU')\n",
    "\n",
    "    plt.plot(range(2, N + 1, 5), t_build_in, 'brown',\n",
    "             label='SOLUZIONE CON METODO np.linalg.solve')\n",
    "\n",
    "    plt.xlabel('N')\n",
    "    plt.ylabel('Tempo')\n",
    "    plt.legend()\n",
    "    plt.show()\n",
    "   \n",
    "\n",
    "\n",
    "test_fattorizzazione(200)"
   ]
  },
  {
   "cell_type": "markdown",
   "id": "eff07dac",
   "metadata": {},
   "source": [
    "Osservando il grafico dove andiamo a paragonare SOLUZIONE CON MEG e SOLUZIONE CON METODO A=LU è possibile notare che l'adozione del MEG per rendere la matrice piena una triangolare U per poi risolvere il sistema di equazioni lineari con l'algorirmo di sostituzione all'indietro è un metodo più lento rispetto alla decomposizione A = LU\n",
    "\n",
    "Possiamo notare che il metodo di Cramer che dovrebbe essere più lento rispetto all'eliminazione di Gauss, se implementato con il calcolo del determinante tramite funzioni built-in porta ad una velocità d'esecuzione maggiore.\n",
    "Nel caso della versione ottimizzata notiamo che l'algoritmo è davvero molto veloce perchè calcoliamo il determinante di A una sola volta e non per ogni Xi.\n",
    "Importante dire che il metodo di Cramer sia meno stabile del MEG con sostituzione all'indietro oppure rispetto alla decomposizione A = LU, infatti le irregolarità aumentano all'aumentare di N\n",
    "\n",
    "La massima velocità di esecuzione nei test è data dai metodi  nativi della libreria NUMPY, è osservabile che la risoluzione del sistema tramite la matrice inversa produca dei picchi di instabilità maggiori rispetto all'utilizzo del metodo nativo np.linalg.solve(A, b)\n",
    "\n",
    "Per quanto riguarda il confronto tra np.linalg.solve(A, b) e la decomposizione A = LU possiamo osservare come l'algoritmo di built-in di NUMPY sia tendenzialmente più veloce però mostra picchi irregolari maggiori"
   ]
  }
 ],
 "metadata": {
  "celltoolbar": "Slideshow",
  "kernelspec": {
   "display_name": "Python 3 (ipykernel)",
   "language": "python",
   "name": "python3"
  },
  "language_info": {
   "codemirror_mode": {
    "name": "ipython",
    "version": 3
   },
   "file_extension": ".py",
   "mimetype": "text/x-python",
   "name": "python",
   "nbconvert_exporter": "python",
   "pygments_lexer": "ipython3",
   "version": "3.9.7"
  }
 },
 "nbformat": 4,
 "nbformat_minor": 5
}
